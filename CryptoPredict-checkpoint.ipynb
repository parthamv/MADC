{
 "cells": [
  {
   "cell_type": "code",
   "execution_count": 3,
   "id": "63b1a96e",
   "metadata": {},
   "outputs": [],
   "source": [
    "# -*- coding: utf-8 -*-\n",
    "\"\"\"CryptoPredict.ipynb\n",
    "\n",
    "Author : Parthasarathy\n",
    "\n",
    "Original file is located at\n",
    "    https://colab.research.google.com/drive/1rg1wFX8LEd9P90-Pff7ohesRVEBPCg-D\n",
    "\"\"\"\n",
    "\n",
    "import io\n",
    "import json\n",
    "import requests\n",
    "import pandas as pd\n",
    "import matplotlib.pyplot as plt\n",
    "import datetime\n",
    "from statsmodels.tsa.statespace.sarimax import SARIMAX\n",
    "\n",
    "class CryptoPredict:\n",
    "    api_token=\"\"\n",
    "    def __init__(self):\n",
    "        self.api_token = \"625ce48f84b4d3.50518364\"\n",
    "  \n",
    "    def API(self):\n",
    "        return self.api_token\n",
    "\n",
    "    #Function to predict the futuristic price of the Crypto currency pair using SARIMAX model.\n",
    "    def pricePredict(self,market_type,end_date):\n",
    "        \"\"\"Params:Crypto Pairs as String, end_date in timeframe format Function Usage: to predict the crypto currency pairs futuristic price based on the mentioned end date. Return Value: Returns a list of future prices based on the time frame mentioned. \"\"\"\n",
    "        response=requests.get(f'https://eodhistoricaldata.com/api/eod/{market_type}.CC?api_token={self.api_token}&order=d&fmt=json')\n",
    "        json_data=json.loads(response.content)\n",
    "        df=pd.DataFrame(json_data)\n",
    "        df_set=df.iloc[::-1].reset_index()\n",
    "        df_set.drop(columns=['index'],inplace=True)\n",
    "        df_set.set_index(['date'],inplace=True)\n",
    "        df_set.fillna(0,inplace=True)\n",
    "        model = SARIMAX(df_set[\"close\"], trend='n', order=(0,1,0), seasonal_order=(1,1,1,12), freq=\"D\")\n",
    "        results_ARIMA = model.fit(disp=-1)\n",
    "        start_date = df_set.last_valid_index()\n",
    "        pred = results_ARIMA.predict(start=str(start_date), end=end_date, dynamic=True)\n",
    "        return pred\n",
    "    #Function used to viualise the prediction based on the timeframe mentioned by the user.\n",
    "    def visualizePredict(self,pred):\n",
    "        \"\"\"\n",
    "        Params: List of predicted price for the mentioned crypto currency pair\n",
    "        Function Usage: To visualise the predicted price against the mentioned timeframe\"\"\"\n",
    "        plt.figure(figsize=(30,10))\n",
    "        plt.plot(pred, label='prediction')\n",
    "        plt.ylabel(\"Price\")\n",
    "        plt.xticks(rotation=90)\n",
    "        plt.title(\"Seasonal ARIMA Prediction\")\n",
    "        plt.legend()\n",
    "        plt.tight_layout()\n",
    "        plt.show()\n"
   ]
  },
  {
   "cell_type": "code",
   "execution_count": null,
   "id": "c6b941e4",
   "metadata": {},
   "outputs": [],
   "source": []
  }
 ],
 "metadata": {
  "kernelspec": {
   "display_name": "Python 3 (ipykernel)",
   "language": "python",
   "name": "python3"
  },
  "language_info": {
   "codemirror_mode": {
    "name": "ipython",
    "version": 3
   },
   "file_extension": ".py",
   "mimetype": "text/x-python",
   "name": "python",
   "nbconvert_exporter": "python",
   "pygments_lexer": "ipython3",
   "version": "3.9.7"
  }
 },
 "nbformat": 4,
 "nbformat_minor": 5
}
